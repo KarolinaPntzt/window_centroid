{
 "cells": [
  {
   "cell_type": "markdown",
   "metadata": {},
   "source": [
    "<br>\n",
    "<br>\n",
    "<br>\n",
    "\n",
    "# Calculate Window Centroid \n",
    "\n",
    "<br>\n",
    "<br>\n",
    "<br>\n",
    "\n",
    "<img src=\"https://github.com/KarolinaPntzt/window_centroid/blob/main/img/window_centroids.PNG?raw=True\" width=70%></img>\n",
    "\n",
    "<br>\n",
    "<br>\n",
    "<br>\n",
    "\n",
    "This notebook is dedicated to computing the centroid of rectangular windows on vertical facades of 3D buildings. The same code can be used to compute the centroid of any rectangular 2D geometry placed on a vertical 3D surface. \n",
    "\n",
    "<u><b>Requirements:</b></u>\n",
    "\n",
    "- An active ESRI license for ArcGIS Pro 2.8 or later (must include rights to use 3D functions)\n",
    "- Shapefile with rectangular geometries placed on vertical surfaces\n",
    "\n",
    "\n",
    "<br>\n",
    "<br>\n",
    "<br>\n",
    "\n",
    "The notebook is organized as follows:\n",
    "- [Help functions](#help_funcs)\n",
    "- [Window centroid function - Main](#win_centroid_func)\n",
    "- [Set input and output paths](#set_input_info)\n",
    "- [Execute computations](#execute_computations)\n",
    "- [Control output](#control_output)\n",
    "- [Reference links](#ref_links)\n",
    "\n",
    "<br>\n",
    "<br>\n",
    "<br>"
   ]
  },
  {
   "cell_type": "code",
   "execution_count": null,
   "metadata": {},
   "outputs": [],
   "source": [
    "#Import modules:\n",
    "import arcpy\n",
    "import os"
   ]
  },
  {
   "cell_type": "markdown",
   "metadata": {},
   "source": [
    "<a id=\"help_funcs\"></a>\n",
    "<br>\n",
    "<br>\n",
    "\n",
    "## Help functions"
   ]
  },
  {
   "cell_type": "code",
   "execution_count": null,
   "metadata": {},
   "outputs": [],
   "source": [
    "#Function that takes the name of a shapefile stored in the \n",
    "#current working environment as input (string) and returns\n",
    "#the column names of the shapefile:\n",
    "def get_field_names(fc):\n",
    "    \n",
    "    #Get a list of fieldnames for input shapefile:\n",
    "    f_names = [f.name for f in arcpy.ListFields(fc)]\n",
    "    \n",
    "    #Return list with fieldnames:\n",
    "    return f_names"
   ]
  },
  {
   "cell_type": "code",
   "execution_count": null,
   "metadata": {},
   "outputs": [],
   "source": [
    "#Function that takes the name of a shapefile stored in the \n",
    "#current working environment as input (string) and returns\n",
    "#the content of the corresponding Table Of Contents (TOC):\n",
    "def get_TOC(fc):\n",
    "    \n",
    "    #Get a list of field-names:\n",
    "    f_names = [f.name for f in arcpy.ListFields(fc)]\n",
    "    \n",
    "    #Open shapefile and print every row in TOC:\n",
    "    with arcpy.da.SearchCursor(fc, f_names) as cursor:\n",
    "        \n",
    "        for row in cursor:\n",
    "            \n",
    "            print(row)"
   ]
  },
  {
   "cell_type": "code",
   "execution_count": null,
   "metadata": {},
   "outputs": [],
   "source": [
    "#Function that takes the name of a shapefile stored in the \n",
    "#current working environment as input (string) together with \n",
    "#the column name whose values we want to extract and a boolean \n",
    "#(unique=True returns only unique values in column) and returns\n",
    "#the content of the corresponding column in a list:\n",
    "def get_TOC_column(fc, colname, unique):\n",
    "    \n",
    "    #Create a list to store the column values:\n",
    "    ls = []\n",
    "    \n",
    "    #Open shapefile:\n",
    "    with arcpy.da.SearchCursor(fc, colname) as cursor:\n",
    "        \n",
    "        #Loop through every row in shapefile:\n",
    "        for row in cursor:\n",
    "            \n",
    "            #If user wants the output list to only include unique values:\n",
    "            if (unique):\n",
    "                \n",
    "                #Check that values is not already stored in the list:\n",
    "                if row[0] not in ls:\n",
    "                    \n",
    "                    #Append value:\n",
    "                    ls.append(row[0])\n",
    "                    \n",
    "            else:\n",
    "                \n",
    "                #Append column value to list:\n",
    "                ls.append(row[0])\n",
    "    \n",
    "    #return list:\n",
    "    return ls"
   ]
  },
  {
   "cell_type": "code",
   "execution_count": null,
   "metadata": {},
   "outputs": [],
   "source": [
    "#Function that creates a new numeric field/column for a given feature class> \n",
    "#(feature_class-string, colname-string, datatype-string (\"LONG\"), numofvalues-integer, numofdecvalues-integer)\n",
    "def create_long_field(fc, colname, datatype, numofvalues, numofdecvalues):\n",
    "    \n",
    "    #Extract field-names from shapefile:\n",
    "    fieldnames = [f.name for f in arcpy.ListFields(fc)]\n",
    "    \n",
    "    #Check if \"NN_dist\" field already exists:\n",
    "    if(colname not in fieldnames):\n",
    "\n",
    "        #Add new field (distance to nearest neighbor) to shapefile: \n",
    "        try:\n",
    "            arcpy.AddField_management(fc, colname, datatype, numofvalues, numofdecvalues)\n",
    "            \n",
    "        #Print exception error, if field cannot be added:\n",
    "        except Exception as e:\n",
    "            print(\"Error: \" + e.args[0])\n",
    "    \n",
    "    \n",
    "    "
   ]
  },
  {
   "cell_type": "code",
   "execution_count": null,
   "metadata": {},
   "outputs": [],
   "source": [
    "#Function that reads and returns the name of the \n",
    "#spatial reference system for the input feature layer:\n",
    "def get_CRS(fc):\n",
    "    \n",
    "    #Extract spatial reference system information from feature class:\n",
    "    spatial_ref = arcpy.Describe(fc).spatialReference\n",
    "    \n",
    "    #Return:\n",
    "    return spatial_ref.name\n",
    "    "
   ]
  },
  {
   "cell_type": "markdown",
   "metadata": {},
   "source": [
    "<a id=\"win_centroid_func\"></a>\n",
    "\n",
    "<br>\n",
    "<br>\n",
    "\n",
    "## Compute window centroids - (main function)"
   ]
  },
  {
   "cell_type": "code",
   "execution_count": null,
   "metadata": {},
   "outputs": [],
   "source": [
    "#Function that takes a multipatch layer of rectangular windows as input \n",
    "#and returns a new feature class with their centroids (point layer):\n",
    "def compute_w_centroid(fc, vcs, out_file):\n",
    "\n",
    "    #Add fields in window shapefile to store min/max x/y/z coordinates for every window:\n",
    "    create_long_field(fc, \"X_MIN\", \"LONG\", 9, 2)\n",
    "    create_long_field(fc, \"Y_MIN\", \"LONG\", 9, 2)\n",
    "    create_long_field(fc, \"Z_MIN\", \"LONG\", 9, 2)\n",
    "    create_long_field(fc, \"X_MAX\", \"LONG\", 9, 2)\n",
    "    create_long_field(fc, \"Y_MAX\", \"LONG\", 9, 2)\n",
    "    create_long_field(fc, \"Z_MAX\", \"LONG\", 9, 2)\n",
    "\n",
    "    #Add fields in output shapefile to store window-centroid x/y/z-coordinates:\n",
    "    create_long_field(fc, \"C_X_coord\", \"LONG\", 9, 2)\n",
    "    create_long_field(fc, \"C_Y_coord\", \"LONG\", 9, 2)\n",
    "    create_long_field(fc, \"C_Z_coord\", \"LONG\", 9, 2)\n",
    "\n",
    "    #Get geometry information on min/max x-/y-/z-coordinates for every window:\n",
    "    arcpy.management.CalculateGeometryAttributes(fc, [[\"X_MIN\", \"EXTENT_MIN_X\"],\n",
    "                                                      [\"Y_MIN\", \"EXTENT_MIN_Y\"],\n",
    "                                                      [\"Z_MIN\", \"EXTENT_MIN_Z\"],\n",
    "                                                      [\"X_MAX\", \"EXTENT_MAX_X\"],\n",
    "                                                      [\"Y_MAX\", \"EXTENT_MAX_Y\"],\n",
    "                                                      [\"Z_MAX\", \"EXTENT_MAX_Z\"]])\n",
    "\n",
    "\n",
    "    #Calculate the centroid x-/y-/z-coordinates for every window:\n",
    "    arcpy.CalculateField_management(fc, \"C_X_coord\", \"!X_MIN!+((!X_MAX!-!X_MIN!)/2)\", \"PYTHON_9.3\", \"\")\n",
    "    arcpy.CalculateField_management(fc, \"C_Y_coord\", \"!Y_MIN!+((!Y_MAX!-!Y_MIN!)/2)\", \"PYTHON_9.3\", \"\")\n",
    "    arcpy.CalculateField_management(fc, \"C_Z_coord\", \"!Z_MIN!+((!Z_MAX!-!Z_MIN!)/2)\", \"PYTHON_9.3\", \"\")\n",
    "\n",
    "\n",
    "    #Create separate shapefile (point layer) with window centroids:\n",
    "    arcpy.management.XYTableToPoint(fc, out_file,\n",
    "                                    x_field = \"C_X_coord\", \n",
    "                                    y_field = \"C_Y_coord\",\n",
    "                                    z_field = \"C_Z_coord\",\n",
    "                                    coordinate_system = arcpy.SpatialReference(arcpy.Describe(fc).spatialReference.factoryCode,vcs))\n",
    "\n",
    "    #Delete columns from original window shapefile:\n",
    "    arcpy.DeleteField_management(fc, \n",
    "                                 [\"X_MIN\", \"Y_MIN\", \"Z_MIN\",\n",
    "                                  \"X_MAX\", \"Y_MAX\", \"Z_MAX\", \n",
    "                                  \"C_X_coord\", \"C_Y_coord\", \"C_Z_coord\"])\n",
    "\n",
    "    #Delete columns from output window-centroid shapefile:\n",
    "    arcpy.DeleteField_management(out_file, \n",
    "                                 [\"X_MIN\", \"Y_MIN\", \"Z_MIN\",\n",
    "                                  \"X_MAX\", \"Y_MAX\", \"Z_MAX\"])"
   ]
  },
  {
   "cell_type": "markdown",
   "metadata": {},
   "source": [
    "<a id=\"set_input_info\"></a>\n",
    "<br>\n",
    "<br>\n",
    "\n",
    "## Set input and output location information\n",
    "\n",
    "<br>\n",
    "<br>"
   ]
  },
  {
   "cell_type": "code",
   "execution_count": null,
   "metadata": {},
   "outputs": [],
   "source": [
    "#Set input variables:\n",
    "building_number = 8\n",
    "working_environment = r\"C:\\Users\\Username\\path_to_window_shapefile\"\n",
    "input_feature_class = \"n\"+str(building_number)+\"_w.shp\"\n",
    "VCS = 5613 #vertical coordinate system (5613 corresponds to RH2000) \n",
    "\n",
    "#Set environment settings:\n",
    "arcpy.env.workspace = working_environment\n",
    "\n",
    "#Set output variables:\n",
    "out_path = \"C:\\\\Users\\\\Username\\\\output_folder\\\\\"\n",
    "out_file = \"boi\"+str(building_number)+\"_w_centroids.shp\"\n",
    "output = out_path+out_file"
   ]
  },
  {
   "cell_type": "code",
   "execution_count": null,
   "metadata": {},
   "outputs": [],
   "source": [
    "# Get description of input feature class:\n",
    "desc = arcpy.da.Describe(input_feature_class)"
   ]
  },
  {
   "cell_type": "markdown",
   "metadata": {},
   "source": [
    "<a id=\"execute_computations\"></a>\n",
    "<br>\n",
    "<br>\n",
    "\n",
    "## Execute calculations\n",
    "\n",
    "<br>\n",
    "<br>"
   ]
  },
  {
   "cell_type": "code",
   "execution_count": null,
   "metadata": {},
   "outputs": [],
   "source": [
    "#Call function to compute window centroids:\n",
    "compute_w_centroid(input_feature_class, VCS, output)"
   ]
  },
  {
   "cell_type": "markdown",
   "metadata": {},
   "source": [
    "<a id=\"control_output\"></a>\n",
    "<br>\n",
    "<br>\n",
    "\n",
    "## Conntrol output"
   ]
  },
  {
   "cell_type": "code",
   "execution_count": null,
   "metadata": {},
   "outputs": [],
   "source": [
    "#Check columns of output file (window centroids):\n",
    "get_field_names(output)"
   ]
  },
  {
   "cell_type": "code",
   "execution_count": null,
   "metadata": {},
   "outputs": [],
   "source": [
    "#Check content of output file attribute table (window centroids): \n",
    "get_TOC(output)"
   ]
  },
  {
   "cell_type": "code",
   "execution_count": null,
   "metadata": {},
   "outputs": [],
   "source": [
    "#Check columns of input file (windows):\n",
    "get_field_names(input_feature_class)"
   ]
  },
  {
   "cell_type": "code",
   "execution_count": null,
   "metadata": {},
   "outputs": [],
   "source": [
    "#Check content of input file (windows) attribute table: \n",
    "get_TOC(input_feature_class)"
   ]
  },
  {
   "cell_type": "markdown",
   "metadata": {},
   "source": [
    "<a id=\"ref_links\"></a>\n",
    "\n",
    "<br>\n",
    "<br>\n",
    "\n",
    "## Reference links:\n",
    "\n",
    "- Extensions:\n",
    "    - https://gis.stackexchange.com/questions/54044/arcgis-error-000824-the-tool-is-not-licensed-in-arcpy\n",
    "    - https://pro.arcgis.com/en/pro-app/2.8/arcpy/functions/checkextension.htm\n",
    "\n",
    "    \n",
    "- Spatial Reference:\n",
    "    - https://pro.arcgis.com/en/pro-app/2.8/arcpy/classes/spatialreference.htm\n",
    "    \n",
    "\n",
    "- Calculate Geometry Attributes:\n",
    "    - https://pro.arcgis.com/en/pro-app/3.0/tool-reference/data-management/calculate-geometry-attributes.htm\n",
    "    \n",
    "    \n",
    "- Calculate Field:\n",
    "    - https://pro.arcgis.com/en/pro-app/latest/tool-reference/data-management/calculate-field.htm\n",
    "\n",
    "\n",
    "- XY Table To Point:\n",
    "    - https://pro.arcgis.com/en/pro-app/latest/tool-reference/data-management/xy-table-to-point.htm\n",
    "\n",
    "\n",
    "- Delete Shapefile:\n",
    "    - https://pro.arcgis.com/en/pro-app/2.8/tool-reference/data-management/delete.htm\n",
    "    \n",
    "    \n",
    "- Find files in directory:\n",
    "    - https://stackoverflow.com/questions/3964681/find-all-files-in-a-directory-with-extension-txt-in-python\n",
    "   \n"
   ]
  },
  {
   "cell_type": "markdown",
   "metadata": {},
   "source": [
    "<br>\n",
    "<br>"
   ]
  }
 ],
 "metadata": {
  "kernelspec": {
   "display_name": "Python 3",
   "language": "python",
   "name": "python3"
  },
  "language_info": {
   "codemirror_mode": {
    "name": "ipython",
    "version": 3
   },
   "file_extension": ".py",
   "mimetype": "text/x-python",
   "name": "python",
   "nbconvert_exporter": "python",
   "pygments_lexer": "ipython3",
   "version": "3.7.10"
  }
 },
 "nbformat": 4,
 "nbformat_minor": 4
}
